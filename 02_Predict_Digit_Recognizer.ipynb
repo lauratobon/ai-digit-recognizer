{
  "metadata": {
    "kernelspec": {
      "language": "python",
      "display_name": "Python 3",
      "name": "python3"
    },
    "language_info": {
      "name": "python",
      "version": "3.10.13",
      "mimetype": "text/x-python",
      "codemirror_mode": {
        "name": "ipython",
        "version": 3
      },
      "pygments_lexer": "ipython3",
      "nbconvert_exporter": "python",
      "file_extension": ".py"
    },
    "kaggle": {
      "accelerator": "none",
      "dataSources": [
        {
          "sourceId": 3004,
          "databundleVersionId": 861823,
          "sourceType": "competition"
        }
      ],
      "dockerImageVersionId": 30664,
      "isInternetEnabled": true,
      "language": "python",
      "sourceType": "notebook",
      "isGpuEnabled": false
    },
    "colab": {
      "provenance": [],
      "include_colab_link": true
    }
  },
  "nbformat_minor": 0,
  "nbformat": 4,
  "cells": [
    {
      "cell_type": "markdown",
      "metadata": {
        "id": "view-in-github",
        "colab_type": "text"
      },
      "source": [
        "<a href=\"https://colab.research.google.com/github/lauratobon/ai-digit-recognizer/blob/main/02_Predict_Digit_Recognizer.ipynb\" target=\"_parent\"><img src=\"https://colab.research.google.com/assets/colab-badge.svg\" alt=\"Open In Colab\"/></a>"
      ]
    },
    {
      "cell_type": "code",
      "source": [
        "import numpy as np\n",
        "import pickle\n",
        "from google.colab import drive\n",
        "\n",
        "# Montar Google Drive\n",
        "drive.mount('/content/drive')\n",
        "\n",
        "# Cargar el modelo desde Google Drive\n",
        "with open('/content/drive/My Drive/model.pkl', 'rb') as f:\n",
        "    model = pickle.load(f)"
      ],
      "metadata": {
        "colab": {
          "base_uri": "https://localhost:8080/"
        },
        "id": "FtODuz-U7FPz",
        "outputId": "294de8cd-f740-48ac-89e7-a13aa821ece5"
      },
      "execution_count": 15,
      "outputs": [
        {
          "output_type": "stream",
          "name": "stdout",
          "text": [
            "Drive already mounted at /content/drive; to attempt to forcibly remount, call drive.mount(\"/content/drive\", force_remount=True).\n"
          ]
        }
      ]
    },
    {
      "cell_type": "code",
      "source": [
        "import os\n",
        "os.environ['KAGGLE_CONFIG_DIR'] = \".\"\n",
        "!kaggle competitions download -c digit-recognizer\n",
        "!unzip digit-recognizer.zip"
      ],
      "metadata": {
        "colab": {
          "base_uri": "https://localhost:8080/"
        },
        "id": "N495zaBSAMuR",
        "outputId": "f6ddd6f1-2e02-4c02-bc7a-44dda483cea9"
      },
      "execution_count": 11,
      "outputs": [
        {
          "output_type": "stream",
          "name": "stdout",
          "text": [
            "Warning: Your Kaggle API key is readable by other users on this system! To fix this, you can run 'chmod 600 ./kaggle.json'\n",
            "Downloading digit-recognizer.zip to /content\n",
            "  0% 0.00/15.3M [00:00<?, ?B/s]\n",
            "100% 15.3M/15.3M [00:00<00:00, 162MB/s]\n",
            "Archive:  digit-recognizer.zip\n",
            "  inflating: sample_submission.csv   \n",
            "  inflating: test.csv                \n",
            "  inflating: train.csv               \n"
          ]
        }
      ]
    },
    {
      "cell_type": "code",
      "source": [
        "import pandas as pd\n",
        "test = pd.read_csv('test.csv')\n",
        "x_test = test\n",
        "\n",
        "#Normalize\n",
        "x_test  = x_test/255.\n",
        "\n",
        "#Reshape images\n",
        "x_test = x_test.values.reshape(-1,28,28,1)"
      ],
      "metadata": {
        "id": "6rnWuwcBAc68"
      },
      "execution_count": 13,
      "outputs": []
    },
    {
      "cell_type": "code",
      "source": [
        "results = model.predict(x_test)\n",
        "\n",
        "# select the index with the maximum probability\n",
        "results = np.argmax(results,axis = 1)\n",
        "\n",
        "results = pd.Series(results,name=\"Label\")"
      ],
      "metadata": {
        "execution": {
          "iopub.status.busy": "2024-03-03T15:40:25.063476Z",
          "iopub.execute_input": "2024-03-03T15:40:25.063876Z",
          "iopub.status.idle": "2024-03-03T15:40:39.76602Z",
          "shell.execute_reply.started": "2024-03-03T15:40:25.063843Z",
          "shell.execute_reply": "2024-03-03T15:40:39.764217Z"
        },
        "trusted": true,
        "id": "ySGPUYtX0q5S",
        "outputId": "8fff9204-e43e-4ef9-dcac-2ef8cfd805e3",
        "colab": {
          "base_uri": "https://localhost:8080/"
        }
      },
      "execution_count": 16,
      "outputs": [
        {
          "output_type": "stream",
          "name": "stdout",
          "text": [
            "875/875 [==============================] - 23s 27ms/step\n"
          ]
        }
      ]
    },
    {
      "cell_type": "code",
      "source": [
        "print(results)"
      ],
      "metadata": {
        "execution": {
          "iopub.status.busy": "2024-03-03T15:40:59.954715Z",
          "iopub.execute_input": "2024-03-03T15:40:59.955138Z",
          "iopub.status.idle": "2024-03-03T15:40:59.963396Z",
          "shell.execute_reply.started": "2024-03-03T15:40:59.955083Z",
          "shell.execute_reply": "2024-03-03T15:40:59.961877Z"
        },
        "trusted": true,
        "id": "j5WUsl490q5S",
        "outputId": "5d4ecdad-3b79-455b-a3ac-fc1c97e419f0",
        "colab": {
          "base_uri": "https://localhost:8080/"
        }
      },
      "execution_count": 17,
      "outputs": [
        {
          "output_type": "stream",
          "name": "stdout",
          "text": [
            "0        2\n",
            "1        0\n",
            "2        8\n",
            "3        9\n",
            "4        3\n",
            "        ..\n",
            "27995    9\n",
            "27996    7\n",
            "27997    3\n",
            "27998    9\n",
            "27999    2\n",
            "Name: Label, Length: 28000, dtype: int64\n"
          ]
        }
      ]
    },
    {
      "cell_type": "code",
      "source": [
        "submission = pd.concat([pd.Series(range(1,28001),name = \"ImageId\"),results],axis = 1)\n",
        "\n",
        "submission.to_csv(\"submission.csv\",index=False)"
      ],
      "metadata": {
        "execution": {
          "iopub.status.busy": "2024-03-03T15:41:01.166231Z",
          "iopub.execute_input": "2024-03-03T15:41:01.166647Z",
          "iopub.status.idle": "2024-03-03T15:41:01.191812Z",
          "shell.execute_reply.started": "2024-03-03T15:41:01.166614Z",
          "shell.execute_reply": "2024-03-03T15:41:01.190644Z"
        },
        "trusted": true,
        "id": "hPDcRK_y0q5S"
      },
      "execution_count": 18,
      "outputs": []
    },
    {
      "cell_type": "code",
      "source": [
        "submission = pd.read_csv('submission.csv')\n",
        "print(submission.head())\n",
        "print(submission.info())"
      ],
      "metadata": {
        "execution": {
          "iopub.status.busy": "2024-03-03T15:36:50.270088Z",
          "iopub.execute_input": "2024-03-03T15:36:50.270681Z",
          "iopub.status.idle": "2024-03-03T15:36:50.294631Z",
          "shell.execute_reply.started": "2024-03-03T15:36:50.270638Z",
          "shell.execute_reply": "2024-03-03T15:36:50.2932Z"
        },
        "trusted": true,
        "id": "4ME6GPuw0q5S",
        "colab": {
          "base_uri": "https://localhost:8080/"
        },
        "outputId": "d16a9a1a-d90c-43f6-97a3-8c7f703a6147"
      },
      "execution_count": 19,
      "outputs": [
        {
          "output_type": "stream",
          "name": "stdout",
          "text": [
            "   ImageId  Label\n",
            "0        1      2\n",
            "1        2      0\n",
            "2        3      8\n",
            "3        4      9\n",
            "4        5      3\n",
            "<class 'pandas.core.frame.DataFrame'>\n",
            "RangeIndex: 28000 entries, 0 to 27999\n",
            "Data columns (total 2 columns):\n",
            " #   Column   Non-Null Count  Dtype\n",
            "---  ------   --------------  -----\n",
            " 0   ImageId  28000 non-null  int64\n",
            " 1   Label    28000 non-null  int64\n",
            "dtypes: int64(2)\n",
            "memory usage: 437.6 KB\n",
            "None\n"
          ]
        }
      ]
    },
    {
      "cell_type": "code",
      "source": [],
      "metadata": {
        "id": "7PS2VNUp0q5S"
      },
      "execution_count": null,
      "outputs": []
    }
  ]
}