{
  "metadata": {
    "kernelspec": {
      "language": "python",
      "display_name": "Python 3",
      "name": "python3"
    },
    "language_info": {
      "name": "python",
      "version": "3.10.13",
      "mimetype": "text/x-python",
      "codemirror_mode": {
        "name": "ipython",
        "version": 3
      },
      "pygments_lexer": "ipython3",
      "nbconvert_exporter": "python",
      "file_extension": ".py"
    },
    "kaggle": {
      "accelerator": "none",
      "dataSources": [
        {
          "sourceId": 3004,
          "databundleVersionId": 861823,
          "sourceType": "competition"
        }
      ],
      "dockerImageVersionId": 30664,
      "isInternetEnabled": true,
      "language": "python",
      "sourceType": "notebook",
      "isGpuEnabled": false
    },
    "colab": {
      "provenance": [],
      "include_colab_link": true
    }
  },
  "nbformat_minor": 0,
  "nbformat": 4,
  "cells": [
    {
      "cell_type": "markdown",
      "metadata": {
        "id": "view-in-github",
        "colab_type": "text"
      },
      "source": [
        "<a href=\"https://colab.research.google.com/github/lauratobon/ai-digit-recognizer/blob/main/02_Predict_Digit_Recognizer.ipynb\" target=\"_parent\"><img src=\"https://colab.research.google.com/assets/colab-badge.svg\" alt=\"Open In Colab\"/></a>"
      ]
    },
    {
      "cell_type": "code",
      "source": [
        "results = model.predict(x_test)\n",
        "\n",
        "# select the index with the maximum probability\n",
        "results = np.argmax(results,axis = 1)\n",
        "\n",
        "results = pd.Series(results,name=\"Label\")"
      ],
      "metadata": {
        "execution": {
          "iopub.status.busy": "2024-03-03T15:40:25.063476Z",
          "iopub.execute_input": "2024-03-03T15:40:25.063876Z",
          "iopub.status.idle": "2024-03-03T15:40:39.76602Z",
          "shell.execute_reply.started": "2024-03-03T15:40:25.063843Z",
          "shell.execute_reply": "2024-03-03T15:40:39.764217Z"
        },
        "trusted": true,
        "id": "ySGPUYtX0q5S",
        "outputId": "bb582647-f398-467d-dfa3-92fc286a0a18",
        "colab": {
          "base_uri": "https://localhost:8080/"
        }
      },
      "execution_count": null,
      "outputs": [
        {
          "output_type": "stream",
          "name": "stdout",
          "text": [
            "875/875 [==============================] - 26s 29ms/step\n"
          ]
        }
      ]
    },
    {
      "cell_type": "code",
      "source": [
        "print(results)"
      ],
      "metadata": {
        "execution": {
          "iopub.status.busy": "2024-03-03T15:40:59.954715Z",
          "iopub.execute_input": "2024-03-03T15:40:59.955138Z",
          "iopub.status.idle": "2024-03-03T15:40:59.963396Z",
          "shell.execute_reply.started": "2024-03-03T15:40:59.955083Z",
          "shell.execute_reply": "2024-03-03T15:40:59.961877Z"
        },
        "trusted": true,
        "id": "j5WUsl490q5S",
        "outputId": "7fd908b1-8fa7-4781-da32-559e83bd8159",
        "colab": {
          "base_uri": "https://localhost:8080/"
        }
      },
      "execution_count": null,
      "outputs": [
        {
          "output_type": "stream",
          "name": "stdout",
          "text": [
            "0        2\n",
            "1        0\n",
            "2        9\n",
            "3        0\n",
            "4        3\n",
            "        ..\n",
            "27995    9\n",
            "27996    7\n",
            "27997    3\n",
            "27998    9\n",
            "27999    2\n",
            "Name: Label, Length: 28000, dtype: int64\n"
          ]
        }
      ]
    },
    {
      "cell_type": "code",
      "source": [
        "submission = pd.concat([pd.Series(range(1,28001),name = \"ImageId\"),results],axis = 1)\n",
        "\n",
        "submission.to_csv(\"submission.csv\",index=False)"
      ],
      "metadata": {
        "execution": {
          "iopub.status.busy": "2024-03-03T15:41:01.166231Z",
          "iopub.execute_input": "2024-03-03T15:41:01.166647Z",
          "iopub.status.idle": "2024-03-03T15:41:01.191812Z",
          "shell.execute_reply.started": "2024-03-03T15:41:01.166614Z",
          "shell.execute_reply": "2024-03-03T15:41:01.190644Z"
        },
        "trusted": true,
        "id": "hPDcRK_y0q5S"
      },
      "execution_count": null,
      "outputs": []
    },
    {
      "cell_type": "code",
      "source": [
        "submission = pd.read_csv('submission.csv')\n",
        "print(submission.head())\n",
        "print(submission.info())"
      ],
      "metadata": {
        "execution": {
          "iopub.status.busy": "2024-03-03T15:36:50.270088Z",
          "iopub.execute_input": "2024-03-03T15:36:50.270681Z",
          "iopub.status.idle": "2024-03-03T15:36:50.294631Z",
          "shell.execute_reply.started": "2024-03-03T15:36:50.270638Z",
          "shell.execute_reply": "2024-03-03T15:36:50.2932Z"
        },
        "trusted": true,
        "id": "4ME6GPuw0q5S"
      },
      "execution_count": null,
      "outputs": []
    },
    {
      "cell_type": "code",
      "source": [],
      "metadata": {
        "id": "7PS2VNUp0q5S"
      },
      "execution_count": null,
      "outputs": []
    }
  ]
}